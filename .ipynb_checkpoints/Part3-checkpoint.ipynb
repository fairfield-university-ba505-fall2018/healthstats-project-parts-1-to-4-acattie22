{
 "cells": [
  {
   "cell_type": "markdown",
   "metadata": {},
   "source": [
    "# Health Stats Part 3: Numpy Structured Arrays"
   ]
  },
  {
   "cell_type": "markdown",
   "metadata": {},
   "source": [
    "<!--- Paste in your explanation from part 1.  --->\n",
    "The waist to hip ratio is calculated by taking the **waist** measurement and dividing it by the **hip** measurement **(w/h)**. The resulting number can help deduce health measures, such as __obesity and fetility__ in women. A normal weight for __women__ results in a number lower than **0.8**, while a __man's__ normal weight number is less than **0.9**."
   ]
  },
  {
   "cell_type": "markdown",
   "metadata": {},
   "source": [
    "## Source Data "
   ]
  },
  {
   "cell_type": "markdown",
   "metadata": {},
   "source": [
    "<!--- Paste in your column definition table from part 2. --->\n",
    "* The first column, ID, has numbers of type int to ID the people in the study\n",
    "* The second column, Waist, has waist measurements that are of type int\n",
    "* The third column, Hip, has hip measurements that are of type int\n",
    "* The fourth column, Gender, gives string values of the people's gender"
   ]
  },
  {
   "cell_type": "markdown",
   "metadata": {},
   "source": [
    "## Data Import"
   ]
  },
  {
   "cell_type": "code",
   "execution_count": 15,
   "metadata": {},
   "outputs": [],
   "source": [
    "import numpy as np"
   ]
  },
  {
   "cell_type": "code",
   "execution_count": 16,
   "metadata": {},
   "outputs": [
    {
     "data": {
      "text/plain": [
       "array([( 1, 30., 32., 'M'), ( 2, 32., 37., 'M'), ( 3, 30., 36., 'M'),\n",
       "       ( 4, 33., 39., 'M'), ( 5, 29., 33., 'M'), ( 6, 32., 38., 'M'),\n",
       "       ( 7, 33., 42., 'M'), ( 8, 30., 40., 'M'), ( 9, 30., 37., 'M'),\n",
       "       (10, 32., 39., 'M'), (11, 24., 35., 'F'), (12, 25., 37., 'F'),\n",
       "       (13, 24., 37., 'F'), (14, 22., 34., 'F'), (15, 26., 38., 'F'),\n",
       "       (16, 26., 37., 'F'), (17, 25., 38., 'F'), (18, 26., 37., 'F'),\n",
       "       (19, 28., 40., 'F'), (20, 23., 35., 'F')],\n",
       "      dtype=[('ID', '<i8'), ('Waist', '<f8'), ('Hip', '<f8'), ('Gender', '<U1')])"
      ]
     },
     "execution_count": 16,
     "metadata": {},
     "output_type": "execute_result"
    }
   ],
   "source": [
    "# Goal: Extract the data from the file\n",
    "rows = np.genfromtxt(\"w2h_data.csv\", delimiter=\",\", skip_header=1, \n",
    "                     dtype=[('ID','i8'),('Waist','f8'),('Hip','f8'),('Gender','U1')])\n",
    "rows\n"
   ]
  },
  {
   "cell_type": "markdown",
   "metadata": {},
   "source": [
    "## Calculations"
   ]
  },
  {
   "cell_type": "code",
   "execution_count": 17,
   "metadata": {},
   "outputs": [
    {
     "data": {
      "text/plain": [
       "array([0.9375    , 0.86486486, 0.83333333, 0.84615385, 0.87878788,\n",
       "       0.84210526, 0.78571429, 0.75      , 0.81081081, 0.82051282,\n",
       "       0.68571429, 0.67567568, 0.64864865, 0.64705882, 0.68421053,\n",
       "       0.7027027 , 0.65789474, 0.7027027 , 0.7       , 0.65714286])"
      ]
     },
     "execution_count": 17,
     "metadata": {},
     "output_type": "execute_result"
    }
   ],
   "source": [
    "w2h_ratio = rows['Waist']/rows['Hip']\n",
    "w2h_ratio"
   ]
  },
  {
   "cell_type": "code",
   "execution_count": 18,
   "metadata": {},
   "outputs": [
    {
     "ename": "ValueError",
     "evalue": "no field of name w2h_ratio",
     "output_type": "error",
     "traceback": [
      "\u001b[0;31m---------------------------------------------------------------------------\u001b[0m",
      "\u001b[0;31mValueError\u001b[0m                                Traceback (most recent call last)",
      "\u001b[0;32m<ipython-input-18-9ec0bd7c13f9>\u001b[0m in \u001b[0;36m<module>\u001b[0;34m()\u001b[0m\n\u001b[1;32m      1\u001b[0m \u001b[0;31m# Goal: For each row of data calculate and store the w2h_ratio and shape.\u001b[0m\u001b[0;34m\u001b[0m\u001b[0;34m\u001b[0m\u001b[0m\n\u001b[0;32m----> 2\u001b[0;31m \u001b[0mrows\u001b[0m\u001b[0;34m[\u001b[0m\u001b[0;34m'w2h_ratio'\u001b[0m\u001b[0;34m]\u001b[0m \u001b[0;34m=\u001b[0m \u001b[0mrows\u001b[0m\u001b[0;34m[\u001b[0m\u001b[0;34m'Waist'\u001b[0m\u001b[0;34m]\u001b[0m\u001b[0;34m/\u001b[0m\u001b[0mrows\u001b[0m\u001b[0;34m[\u001b[0m\u001b[0;34m'Hip'\u001b[0m\u001b[0;34m]\u001b[0m\u001b[0;34m\u001b[0m\u001b[0m\n\u001b[0m\u001b[1;32m      3\u001b[0m \u001b[0;34m\u001b[0m\u001b[0m\n\u001b[1;32m      4\u001b[0m \u001b[0;31m# determine who is male (True) or female (False)\u001b[0m\u001b[0;34m\u001b[0m\u001b[0;34m\u001b[0m\u001b[0m\n\u001b[1;32m      5\u001b[0m \u001b[0mmales\u001b[0m \u001b[0;34m=\u001b[0m \u001b[0;34m(\u001b[0m\u001b[0mrows\u001b[0m\u001b[0;34m[\u001b[0m\u001b[0;34m'Gender'\u001b[0m\u001b[0;34m]\u001b[0m\u001b[0;34m==\u001b[0m\u001b[0;34m'M'\u001b[0m\u001b[0;34m)\u001b[0m\u001b[0;34m\u001b[0m\u001b[0m\n",
      "\u001b[0;31mValueError\u001b[0m: no field of name w2h_ratio"
     ]
    }
   ],
   "source": [
    "# Goal: For each row of data calculate and store the w2h_ratio and shape.\n",
    "rows['w2h_ratio'] = rows['Waist']/rows['Hip']\n",
    "\n",
    "# determine who is male (True) or female (False)\n",
    "males = (rows['Gender']=='M')\n",
    "\n",
    "# males with w2h ration > 0.9 are apple shaped\n",
    "male_apples = np.logical_and((w2h_ratios>0.9),males)\n",
    "\n",
    "# females with w2h ratio > 0.8 are apple shaped\n",
    "female_apples = np.logical_and((w2h_ratios>0.8),np.logical_not(males))\n",
    "\n",
    "# combines the male_apples and female_apples\n",
    "apples=np.logical_or(male_apples,female_apples)\n",
    "\n",
    "# works like an if then else statement\n",
    "shapes=np.where(apples,'Apple','Pear')\n",
    "\n",
    "# The code below creates a new results array \n",
    "\n",
    "# add the two new columns to the dtype descriptor\n",
    "dt = np.dtype(rows.dtype.descr + [('W2H Ratio',float),('Shape','U5')])\n",
    "\n",
    "# create a new results array with the same number of rows and the new dtype\n",
    "results = np.zeros(rows.shape,dtype=dt)\n",
    "\n",
    "# copy over the rows data\n",
    "for c in rows.dtype.names:\n",
    "    results[c]=rows[c]\n",
    "    \n",
    "# add the two new columns\n",
    "results['W2H Ratio']=w2h_ratios\n",
    "results['Shape']=shapes\n",
    "     "
   ]
  },
  {
   "cell_type": "markdown",
   "metadata": {},
   "source": [
    "## Output"
   ]
  },
  {
   "cell_type": "code",
   "execution_count": null,
   "metadata": {},
   "outputs": [],
   "source": [
    "# Goal: pretty print the rows as an HTML table\n",
    "\n",
    "# Note: this works, but we can do this much better with pandas\n",
    "html_table = '<table><tr><th>'\n",
    "html_table += \"</th><th>\".join(rows[0].keys())\n",
    "html_table += '</th></tr>'\n",
    "for row in rows:\n",
    "    html_table += \"<tr><td>\"\n",
    "    html_table += \"</td><td>\".join(str(v) for v in row.values())\n",
    "    html_table += \"</td></tr>\"\n",
    "html_table += \"</table>\"\n",
    "\n",
    "from IPython.display import HTML, display\n",
    "display(HTML(html_table))\n",
    "\n",
    "# Export to \"StatsResults.csv\"\n",
    "np.savetxt(\"StatsResults.csv\",results, fmt='%s',delimiter=',',header=','.join(results.dtype.names),comments=\"\")"
   ]
  }
 ],
 "metadata": {
  "kernelspec": {
   "display_name": "Python 3",
   "language": "python",
   "name": "python3"
  },
  "language_info": {
   "codemirror_mode": {
    "name": "ipython",
    "version": 3
   },
   "file_extension": ".py",
   "mimetype": "text/x-python",
   "name": "python",
   "nbconvert_exporter": "python",
   "pygments_lexer": "ipython3",
   "version": "3.6.5"
  }
 },
 "nbformat": 4,
 "nbformat_minor": 2
}
